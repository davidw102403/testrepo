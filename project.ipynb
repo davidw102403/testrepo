{
 "cells": [
  {
   "cell_type": "markdown",
   "id": "0d21553e-93ea-4353-82d6-95446017725a",
   "metadata": {},
   "source": [
    "# My Jupyter Notebook on IBM Watson Studio"
   ]
  },
  {
   "cell_type": "markdown",
   "id": "95190ccb-76f6-4bf5-9629-5bfe46779abf",
   "metadata": {},
   "source": [
    "__David Wang__"
   ]
  },
  {
   "cell_type": "markdown",
   "id": "83b80afb-74e0-4f29-a039-e38352f66ca6",
   "metadata": {},
   "source": [
    "Quantitative Analyst"
   ]
  },
  {
   "cell_type": "markdown",
   "id": "8ca35b81-4490-493e-b3f8-3cedb0d74a91",
   "metadata": {},
   "source": [
    "*I am interested in data science because it is a useful skill for developing models*"
   ]
  },
  {
   "cell_type": "markdown",
   "id": "2dcc3cb0-47f8-4adc-bd23-02d9882dd710",
   "metadata": {},
   "source": [
    "<h3> the following code computes the sum of two integers"
   ]
  },
  {
   "cell_type": "code",
   "execution_count": 1,
   "id": "52575118-7d96-44bb-83b8-072bcf9e5ea1",
   "metadata": {},
   "outputs": [
    {
     "data": {
      "text/plain": [
       "3"
      ]
     },
     "execution_count": 1,
     "metadata": {},
     "output_type": "execute_result"
    }
   ],
   "source": [
    "a=1\n",
    "b=2\n",
    "a+b"
   ]
  },
  {
   "cell_type": "markdown",
   "id": "4b4406d3-9e03-4ea8-9dc9-30e5f09b1473",
   "metadata": {},
   "source": [
    "* one\n",
    "* two\n",
    "* three\n",
    "* four"
   ]
  },
  {
   "cell_type": "markdown",
   "id": "cfc555ed-5671-4d9a-b168-3d10ba6e2d3a",
   "metadata": {},
   "source": [
    "|table|table|\n",
    "|-----|-----|\n",
    "|cell|cell|"
   ]
  },
  {
   "cell_type": "markdown",
   "id": "61ad56d6-465e-41cf-8395-3f7debcafeeb",
   "metadata": {},
   "source": [
    "[hyperlink](https://www.youtube.com/)"
   ]
  }
 ],
 "metadata": {
  "kernelspec": {
   "display_name": "Python",
   "language": "python",
   "name": "conda-env-python-py"
  },
  "language_info": {
   "codemirror_mode": {
    "name": "ipython",
    "version": 3
   },
   "file_extension": ".py",
   "mimetype": "text/x-python",
   "name": "python",
   "nbconvert_exporter": "python",
   "pygments_lexer": "ipython3",
   "version": "3.7.12"
  }
 },
 "nbformat": 4,
 "nbformat_minor": 5
}
